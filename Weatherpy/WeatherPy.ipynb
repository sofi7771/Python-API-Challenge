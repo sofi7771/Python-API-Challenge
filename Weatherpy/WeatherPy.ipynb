{
 "cells": [
  {
   "cell_type": "markdown",
   "metadata": {},
   "source": [
    "# WeatherPy\n",
    "----\n",
    "\n",
    "#### Note\n",
    "* Instructions have been included for each segment. You do not have to follow them exactly, but they are included to help you think through the steps."
   ]
  },
  {
   "cell_type": "code",
   "execution_count": 1,
   "metadata": {
    "scrolled": true
   },
   "outputs": [],
   "source": [
    "# Dependencies and Setup\n",
    "import matplotlib.pyplot as plt\n",
    "import pandas as pd\n",
    "import numpy as np\n",
    "import requests\n",
    "import time\n",
    "from scipy.stats import linregress\n",
    "import json\n",
    "import scipy.stats as st\n",
    "\n",
    "# Import API key\n",
    "from api_keys import weather_api_key\n",
    "\n",
    "# Incorporated citipy to determine city based on latitude and longitude\n",
    "from citipy import citipy\n",
    "\n",
    "# Output File (CSV)\n",
    "output_data_file = \"output_data/cities.csv\"\n",
    "\n",
    "# Range of latitudes and longitudes\n",
    "lat_range = (-90, 90)\n",
    "lng_range = (-180, 180)"
   ]
  },
  {
   "cell_type": "markdown",
   "metadata": {},
   "source": [
    "## Generate Cities List"
   ]
  },
  {
   "cell_type": "code",
   "execution_count": 2,
   "metadata": {},
   "outputs": [
    {
     "data": {
      "text/plain": [
       "616"
      ]
     },
     "execution_count": 2,
     "metadata": {},
     "output_type": "execute_result"
    }
   ],
   "source": [
    "# List for holding lat_lngs and cities\n",
    "lat_lngs = []\n",
    "cities = []\n",
    "\n",
    "# Create a set of random lat and lng combinations\n",
    "lats = np.random.uniform(lat_range[0], lat_range[1], size=1500)\n",
    "lngs = np.random.uniform(lng_range[0], lng_range[1], size=1500)\n",
    "lat_lngs = zip(lats, lngs)\n",
    "\n",
    "# Identify nearest city for each lat, lng combination\n",
    "for lat_lng in lat_lngs:\n",
    "    city = citipy.nearest_city(lat_lng[0], lat_lng[1]).city_name\n",
    "    \n",
    "    # If the city is unique, then add it to a our cities list\n",
    "    if city not in cities:\n",
    "        cities.append(city)\n",
    "\n",
    "# Print the city count to confirm sufficient count\n",
    "len(cities)\n",
    "#cities"
   ]
  },
  {
   "cell_type": "markdown",
   "metadata": {},
   "source": [
    "### Perform API Calls\n",
    "* Perform a weather check on each city using a series of successive API calls.\n",
    "* Include a print log of each city as it'sbeing processed (with the city number and city name).\n"
   ]
  },
  {
   "cell_type": "code",
   "execution_count": 3,
   "metadata": {
    "scrolled": true
   },
   "outputs": [
    {
     "name": "stdout",
     "output_type": "stream",
     "text": [
      "Processing record 1|flinders\n",
      "Processing record 2|tepecik\n",
      "Processing record 3|carpentras\n",
      "Processing record 4|mehamn\n",
      "Processing record 5|mataura\n",
      "Processing record 6|hobyo\n",
      "Processing record 7|bambous virieux\n",
      "Processing record 8|thinadhoo\n",
      "City not found. skipping.\n",
      "City not found. skipping.\n",
      "Processing record 9|ponta do sol\n",
      "City not found. skipping.\n",
      "Processing record 10|yellowknife\n",
      "Processing record 11|chokurdakh\n",
      "Processing record 12|yei\n",
      "Processing record 13|ushuaia\n",
      "Processing record 14|isangel\n",
      "Processing record 15|cape town\n",
      "Processing record 16|srednekolymsk\n",
      "Processing record 17|vila franca do campo\n",
      "Processing record 18|sortavala\n",
      "Processing record 19|kruisfontein\n",
      "Processing record 20|lebu\n",
      "Processing record 21|ekibastuz\n",
      "Processing record 22|phuket\n",
      "Processing record 23|rikitea\n",
      "Processing record 24|hamilton\n",
      "Processing record 25|tasiilaq\n",
      "City not found. skipping.\n",
      "City not found. skipping.\n",
      "Processing record 26|bluff\n",
      "Processing record 27|puerto ayora\n",
      "Processing record 28|santa catarina de tepehuanes\n",
      "Processing record 29|faanui\n",
      "Processing record 30|punta arenas\n",
      "Processing record 31|pecos\n",
      "Processing record 32|rafaela\n",
      "City not found. skipping.\n",
      "Processing record 33|upernavik\n",
      "Processing record 34|ambon\n",
      "City not found. skipping.\n",
      "Processing record 35|mwinilunga\n",
      "City not found. skipping.\n",
      "Processing record 36|katsuura\n",
      "Processing record 37|pisco\n",
      "Processing record 38|georgetown\n",
      "Processing record 39|sapiranga\n",
      "Processing record 40|beringovskiy\n",
      "Processing record 41|olafsvik\n",
      "Processing record 42|clyde river\n",
      "Processing record 43|tual\n",
      "Processing record 44|butaritari\n",
      "Processing record 45|richards bay\n",
      "Processing record 46|brae\n",
      "Processing record 47|ponta delgada\n",
      "Processing record 48|port alfred\n",
      "Processing record 49|manacor\n",
      "Processing record 50|namatanai\n",
      "Processing record 51|mar del plata\n",
      "Processing record 52|busselton\n",
      "Processing record 53|koumac\n",
      "Processing record 54|linares\n",
      "Processing record 55|ushtobe\n",
      "Processing record 56|karacakoy\n",
      "Processing record 57|gat\n",
      "Processing record 58|saldanha\n",
      "City not found. skipping.\n",
      "Processing record 59|cayenne\n",
      "Processing record 60|honjo\n",
      "Processing record 61|kozan\n",
      "Processing record 62|tuktoyaktuk\n",
      "Processing record 63|hermanus\n",
      "Processing record 64|kyra\n",
      "Processing record 65|dzilam gonzalez\n",
      "Processing record 66|bathsheba\n",
      "Processing record 67|kaitangata\n",
      "Processing record 68|porto torres\n",
      "Processing record 69|ketchikan\n",
      "Processing record 70|albany\n",
      "Processing record 71|hasaki\n",
      "Processing record 72|eyl\n",
      "Processing record 73|gaoua\n",
      "Processing record 74|jardim\n",
      "Processing record 75|suntar\n",
      "Processing record 76|komsomolskiy\n",
      "Processing record 77|tiksi\n",
      "Processing record 78|atuona\n",
      "Processing record 79|uthal\n",
      "Processing record 80|rapid valley\n",
      "Processing record 81|digha\n",
      "City not found. skipping.\n",
      "Processing record 82|bethel\n",
      "Processing record 83|jamestown\n",
      "Processing record 84|cairns\n",
      "Processing record 85|saint-philippe\n",
      "Processing record 86|kapaa\n",
      "Processing record 87|margate\n",
      "Processing record 88|hilo\n",
      "Processing record 89|halifax\n",
      "Processing record 90|vardo\n",
      "Processing record 91|tiznit\n",
      "Processing record 92|cidreira\n",
      "Processing record 93|upington\n",
      "Processing record 94|virginia beach\n",
      "Processing record 95|maymyo\n",
      "Processing record 96|vanavara\n",
      "Processing record 97|shingu\n",
      "City not found. skipping.\n",
      "Processing record 98|new norfolk\n",
      "Processing record 99|kresttsy\n",
      "Processing record 100|finnsnes\n",
      "Processing record 101|kodiak\n",
      "Processing record 102|beloha\n",
      "Processing record 103|gundlupet\n",
      "Processing record 104|barrow\n",
      "Processing record 105|yamada\n",
      "City not found. skipping.\n",
      "Processing record 106|carnarvon\n",
      "Processing record 107|nikolskoye\n",
      "Processing record 108|luanda\n",
      "Processing record 109|kyabram\n",
      "Processing record 110|namie\n",
      "Processing record 111|sao filipe\n",
      "Processing record 112|hobart\n",
      "Processing record 113|makakilo city\n",
      "Processing record 114|quechultenango\n",
      "City not found. skipping.\n",
      "Processing record 115|zhuhai\n",
      "City not found. skipping.\n",
      "Processing record 116|nexo\n",
      "Processing record 117|vaini\n",
      "Processing record 118|leshukonskoye\n",
      "Processing record 119|cabra\n",
      "City not found. skipping.\n",
      "Processing record 120|rio gallegos\n",
      "Processing record 121|ilulissat\n",
      "Processing record 122|port elizabeth\n",
      "Processing record 123|olinda\n",
      "Processing record 124|raudeberg\n",
      "Processing record 125|bredasdorp\n",
      "Processing record 126|magadi\n",
      "Processing record 127|broome\n",
      "Processing record 128|comodoro rivadavia\n",
      "Processing record 129|louga\n",
      "Processing record 130|puro\n",
      "Processing record 131|iberia\n",
      "Processing record 132|lompoc\n",
      "Processing record 133|pevek\n",
      "Processing record 134|barcelos\n",
      "Processing record 135|miri\n",
      "Processing record 136|kodinsk\n",
      "Processing record 137|bengkulu\n",
      "Processing record 138|evensk\n",
      "Processing record 139|anadyr\n",
      "Processing record 140|garowe\n",
      "Processing record 141|tuatapere\n",
      "Processing record 142|tougan\n",
      "City not found. skipping.\n",
      "Processing record 143|torres\n",
      "Processing record 144|gornopravdinsk\n",
      "Processing record 145|provideniya\n",
      "Processing record 146|bereda\n",
      "Processing record 147|castro\n",
      "Processing record 148|vidim\n",
      "Processing record 149|lahij\n",
      "Processing record 150|druzhba\n",
      "Processing record 151|saskylakh\n",
      "Processing record 152|sarangani\n",
      "Processing record 153|tari\n",
      "Processing record 154|jiamusi\n",
      "City not found. skipping.\n",
      "Processing record 155|conakry\n",
      "Processing record 156|te anau\n",
      "Processing record 157|long beach\n",
      "Processing record 158|bam\n",
      "Processing record 159|falun\n",
      "City not found. skipping.\n",
      "Processing record 160|buin\n",
      "Processing record 161|korla\n",
      "City not found. skipping.\n",
      "Processing record 162|avarua\n",
      "Processing record 163|meadow lake\n",
      "Processing record 164|manaus\n",
      "Processing record 165|leningradskiy\n",
      "Processing record 166|torbay\n",
      "Processing record 167|khatanga\n",
      "Processing record 168|murgab\n",
      "Processing record 169|sao jose da coroa grande\n",
      "Processing record 170|kipushi\n",
      "Processing record 171|lhokseumawe\n",
      "Processing record 172|yar-sale\n",
      "Processing record 173|grafton\n",
      "Processing record 174|norman wells\n",
      "City not found. skipping.\n",
      "Processing record 175|hami\n",
      "City not found. skipping.\n",
      "Processing record 176|okha\n",
      "Processing record 177|los llanos de aridane\n",
      "Processing record 178|luang prabang\n",
      "Processing record 179|nichinan\n",
      "Processing record 180|fairbanks\n",
      "Processing record 181|sheltozero\n",
      "City not found. skipping.\n",
      "Processing record 182|ossora\n",
      "Processing record 183|san joaquin\n",
      "Processing record 184|mitu\n",
      "Processing record 185|dikson\n",
      "Processing record 186|olavarria\n",
      "Processing record 187|chicama\n",
      "Processing record 188|kavaratti\n",
      "Processing record 189|bairiki\n",
      "Processing record 190|igrim\n",
      "Processing record 191|touros\n",
      "Processing record 192|qaanaaq\n",
      "Processing record 193|katakwi\n",
      "Processing record 194|sheridan\n",
      "Processing record 195|havre-saint-pierre\n",
      "Processing record 196|ancud\n",
      "Processing record 197|severo-kurilsk\n",
      "Processing record 198|east london\n",
      "Processing record 199|nanzhou\n",
      "Processing record 200|porto novo\n",
      "Processing record 201|mahebourg\n",
      "Processing record 202|nevelsk\n",
      "Processing record 203|ajdabiya\n",
      "Processing record 204|airai\n",
      "Processing record 205|ahualulco\n",
      "Processing record 206|zyryanka\n",
      "Processing record 207|altamira\n",
      "Processing record 208|jilin\n",
      "Processing record 209|batsfjord\n",
      "City not found. skipping.\n",
      "Processing record 210|avera\n",
      "Processing record 211|dangara\n",
      "Processing record 212|coihaique\n",
      "Processing record 213|port-de-bouc\n",
      "Processing record 214|batemans bay\n",
      "Processing record 215|xining\n",
      "City not found. skipping.\n",
      "Processing record 216|mitsamiouli\n",
      "Processing record 217|chase\n",
      "Processing record 218|markapur\n",
      "Processing record 219|nandigama\n",
      "Processing record 220|general pico\n",
      "Processing record 221|mount isa\n",
      "Processing record 222|bosaso\n",
      "Processing record 223|mbini\n",
      "Processing record 224|minot\n",
      "Processing record 225|nova soure\n",
      "Processing record 226|kalmunai\n",
      "Processing record 227|cherskiy\n",
      "Processing record 228|lavrentiya\n",
      "Processing record 229|mantamados\n",
      "Processing record 230|nishihara\n",
      "Processing record 231|inuvik\n",
      "Processing record 232|hofn\n",
      "Processing record 233|puerto colombia\n",
      "Processing record 234|goure\n",
      "Processing record 235|jinchang\n",
      "City not found. skipping.\n",
      "Processing record 236|port blair\n",
      "Processing record 237|asau\n",
      "Processing record 238|aklavik\n",
      "Processing record 239|carcasi\n",
      "Processing record 240|fairview\n",
      "Processing record 241|axim\n",
      "Processing record 242|nome\n",
      "Processing record 243|sur\n",
      "Processing record 244|jericho\n",
      "Processing record 245|maragogi\n",
      "Processing record 246|onguday\n",
      "Processing record 247|seoul\n"
     ]
    },
    {
     "name": "stdout",
     "output_type": "stream",
     "text": [
      "Processing record 248|ola\n",
      "Processing record 249|rio grande\n",
      "Processing record 250|marrakesh\n",
      "Processing record 251|trieste\n",
      "Processing record 252|redmond\n",
      "Processing record 253|nangomba\n",
      "City not found. skipping.\n",
      "Processing record 254|vao\n",
      "Processing record 255|heze\n",
      "Processing record 256|luderitz\n",
      "Processing record 257|jampur\n",
      "Processing record 258|san lawrenz\n",
      "Processing record 259|pekan nenas\n",
      "Processing record 260|linfen\n",
      "Processing record 261|carballo\n",
      "Processing record 262|ormara\n",
      "Processing record 263|taoudenni\n",
      "Processing record 264|cochrane\n",
      "Processing record 265|saint george\n",
      "Processing record 266|kasongo-lunda\n",
      "Processing record 267|cabedelo\n",
      "Processing record 268|svetlogorsk\n",
      "Processing record 269|tambopata\n",
      "Processing record 270|betanzos\n",
      "Processing record 271|makat\n",
      "Processing record 272|astana\n",
      "Processing record 273|harper\n",
      "Processing record 274|souillac\n",
      "Processing record 275|laguna\n",
      "Processing record 276|malanje\n",
      "Processing record 277|la vista\n",
      "Processing record 278|adrar\n",
      "City not found. skipping.\n",
      "Processing record 279|sisimiut\n",
      "Processing record 280|hithadhoo\n",
      "Processing record 281|corumba\n",
      "Processing record 282|yashkul\n",
      "Processing record 283|sorong\n",
      "Processing record 284|vostok\n",
      "Processing record 285|kuching\n",
      "Processing record 286|spirit river\n",
      "Processing record 287|esperance\n",
      "Processing record 288|qandala\n",
      "City not found. skipping.\n",
      "Processing record 289|kavieng\n",
      "Processing record 290|kulachi\n",
      "Processing record 291|zhigansk\n",
      "Processing record 292|esparta\n",
      "Processing record 293|yulara\n",
      "Processing record 294|abashiri\n",
      "Processing record 295|dickson\n",
      "Processing record 296|ulaangom\n",
      "Processing record 297|tautira\n",
      "Processing record 298|teixoso\n",
      "Processing record 299|batagay\n",
      "Processing record 300|vila velha\n",
      "Processing record 301|bukowno\n",
      "Processing record 302|talnakh\n",
      "Processing record 303|hirara\n",
      "Processing record 304|casablanca\n",
      "Processing record 305|poum\n",
      "Processing record 306|achacachi\n",
      "Processing record 307|cockburn town\n",
      "Processing record 308|lakatoro\n",
      "Processing record 309|lucan\n",
      "Processing record 310|pangody\n",
      "Processing record 311|gweru\n",
      "Processing record 312|koscierzyna\n",
      "Processing record 313|santiago del estero\n",
      "Processing record 314|grand gaube\n",
      "Processing record 315|buzdyak\n",
      "Processing record 316|rioja\n",
      "Processing record 317|puerto cabezas\n",
      "Processing record 318|loandjili\n",
      "Processing record 319|krasnovishersk\n",
      "Processing record 320|tigil\n",
      "Processing record 321|kamina\n",
      "Processing record 322|la sarre\n",
      "Processing record 323|thompson\n",
      "Processing record 324|golborne\n",
      "Processing record 325|bilma\n",
      "City not found. skipping.\n",
      "Processing record 326|soyo\n",
      "Processing record 327|srandakan\n",
      "Processing record 328|north bend\n",
      "City not found. skipping.\n",
      "Processing record 329|vestmannaeyjar\n",
      "Processing record 330|sambava\n",
      "Processing record 331|lengshuijiang\n",
      "City not found. skipping.\n",
      "City not found. skipping.\n",
      "Processing record 332|sitka\n",
      "Processing record 333|itoman\n",
      "Processing record 334|ferrol\n",
      "Processing record 335|aljezur\n",
      "Processing record 336|egvekinot\n",
      "Processing record 337|college\n",
      "Processing record 338|sept-iles\n",
      "Processing record 339|tazovskiy\n",
      "Processing record 340|krasnokamensk\n",
      "Processing record 341|walvis bay\n",
      "Processing record 342|tarko-sale\n",
      "Processing record 343|pangnirtung\n",
      "Processing record 344|moindou\n",
      "Processing record 345|espanola\n",
      "Processing record 346|ipixuna\n",
      "Processing record 347|koutsouras\n",
      "Processing record 348|hirado\n",
      "Processing record 349|atasu\n",
      "Processing record 350|pithoragarh\n",
      "Processing record 351|prince rupert\n",
      "Processing record 352|torbat-e jam\n",
      "Processing record 353|tacuarembo\n",
      "Processing record 354|capela\n",
      "Processing record 355|erenhot\n",
      "Processing record 356|calvinia\n",
      "Processing record 357|codrington\n",
      "Processing record 358|waipawa\n",
      "Processing record 359|collie\n",
      "Processing record 360|kununurra\n",
      "Processing record 361|odienne\n",
      "Processing record 362|ancona\n",
      "Processing record 363|ixtapa\n",
      "Processing record 364|gornyy\n",
      "Processing record 365|hambantota\n",
      "Processing record 366|utrecht\n",
      "Processing record 367|jimo\n",
      "Processing record 368|padang\n",
      "City not found. skipping.\n",
      "Processing record 369|antofagasta\n",
      "Processing record 370|westport\n",
      "Processing record 371|vorobyevka\n",
      "Processing record 372|iralaya\n",
      "Processing record 373|dombarovskiy\n",
      "Processing record 374|yumen\n",
      "City not found. skipping.\n",
      "Processing record 375|biak\n",
      "Processing record 376|songjianghe\n",
      "Processing record 377|skelleftea\n",
      "Processing record 378|cabo san lucas\n",
      "City not found. skipping.\n",
      "Processing record 379|ribeira grande\n",
      "Processing record 380|nyurba\n",
      "Processing record 381|lata\n",
      "Processing record 382|krasnokholmskiy\n",
      "City not found. skipping.\n",
      "City not found. skipping.\n",
      "Processing record 383|wuda\n",
      "Processing record 384|aykhal\n",
      "Processing record 385|ucluelet\n",
      "Processing record 386|henties bay\n",
      "Processing record 387|mackay\n",
      "Processing record 388|constitucion\n",
      "Processing record 389|ziro\n",
      "Processing record 390|inirida\n",
      "Processing record 391|mahibadhoo\n",
      "Processing record 392|anderson\n",
      "Processing record 393|hervey bay\n",
      "Processing record 394|gerash\n",
      "Processing record 395|atar\n",
      "City not found. skipping.\n",
      "Processing record 396|rocha\n",
      "Processing record 397|dalmatovo\n",
      "Processing record 398|sola\n",
      "Processing record 399|techiman\n",
      "Processing record 400|niltepec\n",
      "Processing record 401|port keats\n",
      "Processing record 402|mikuni\n",
      "Processing record 403|saint-pierre\n",
      "Processing record 404|san\n",
      "Processing record 405|dhing\n",
      "Processing record 406|ngunguru\n",
      "Processing record 407|hay river\n",
      "Processing record 408|mount gambier\n",
      "Processing record 409|manbij\n",
      "Processing record 410|jalu\n",
      "Processing record 411|half moon bay\n",
      "Processing record 412|magnolia\n",
      "Processing record 413|victoria\n",
      "Processing record 414|cradock\n",
      "Processing record 415|tashara\n",
      "Processing record 416|rabo de peixe\n",
      "Processing record 417|chingirlau\n",
      "Processing record 418|tahe\n",
      "Processing record 419|puerto carreno\n",
      "Processing record 420|weligama\n",
      "Processing record 421|tres arroyos\n",
      "Processing record 422|puerto quijarro\n",
      "Processing record 423|tyrma\n",
      "Processing record 424|victor harbor\n",
      "Processing record 425|ponnani\n",
      "Processing record 426|cuiaba\n",
      "City not found. skipping.\n",
      "Processing record 427|kuryk\n",
      "Processing record 428|faya\n",
      "Processing record 429|sorland\n",
      "Processing record 430|tak\n",
      "Processing record 431|alofi\n",
      "Processing record 432|namibe\n",
      "Processing record 433|piripiri\n",
      "Processing record 434|nanortalik\n",
      "Processing record 435|ust-koksa\n",
      "Processing record 436|san cristobal\n",
      "Processing record 437|santa isabel do rio negro\n",
      "Processing record 438|motygino\n",
      "Processing record 439|dunedin\n",
      "Processing record 440|gigmoto\n",
      "Processing record 441|lagoa\n",
      "Processing record 442|wenling\n",
      "Processing record 443|turkistan\n",
      "Processing record 444|ayan\n",
      "Processing record 445|arraial do cabo\n",
      "Processing record 446|chauk\n",
      "Processing record 447|iqaluit\n",
      "Processing record 448|yinchuan\n",
      "Processing record 449|banting\n",
      "Processing record 450|colac\n",
      "Processing record 451|chapais\n",
      "Processing record 452|krasnogorodsk\n",
      "Processing record 453|porto walter\n",
      "Processing record 454|port-cartier\n",
      "Processing record 455|dunmore town\n",
      "Processing record 456|alice springs\n",
      "Processing record 457|ghanzi\n",
      "Processing record 458|ankang\n",
      "Processing record 459|bonthe\n",
      "Processing record 460|tumsar\n",
      "Processing record 461|san patricio\n",
      "Processing record 462|oudtshoorn\n",
      "Processing record 463|lasa\n",
      "Processing record 464|sao joao da barra\n",
      "Processing record 465|quatre cocos\n",
      "Processing record 466|tahta\n",
      "Processing record 467|shenjiamen\n",
      "Processing record 468|maloyaroslavets\n",
      "Processing record 469|diffa\n",
      "City not found. skipping.\n",
      "Processing record 470|boli\n",
      "Processing record 471|holme\n",
      "Processing record 472|oranjemund\n",
      "Processing record 473|little current\n",
      "Processing record 474|valledupar\n",
      "City not found. skipping.\n",
      "Processing record 475|peshawar\n",
      "Processing record 476|narsaq\n",
      "Processing record 477|puerto baquerizo moreno\n",
      "Processing record 478|beyneu\n",
      "City not found. skipping.\n",
      "Processing record 479|itaberai\n",
      "Processing record 480|berlevag\n",
      "Processing record 481|fukue\n",
      "Processing record 482|kasane\n",
      "Processing record 483|longyearbyen\n",
      "Processing record 484|bucerias\n",
      "Processing record 485|dudinka\n",
      "City not found. skipping.\n",
      "Processing record 486|pundaguitan\n",
      "Processing record 487|mandera\n",
      "Processing record 488|moree\n",
      "Processing record 489|balaka\n",
      "Processing record 490|krasnoarmeysk\n",
      "Processing record 491|bose\n",
      "Processing record 492|sulina\n",
      "Processing record 493|ambilobe\n",
      "Processing record 494|tongren\n",
      "Processing record 495|alegrete\n"
     ]
    },
    {
     "name": "stdout",
     "output_type": "stream",
     "text": [
      "Processing record 496|fortuna\n",
      "Processing record 497|liaocheng\n",
      "Processing record 498|viedma\n",
      "Processing record 499|imperia\n",
      "Processing record 500|lewistown\n",
      "Processing record 501|thunder bay\n",
      "Processing record 502|bukama\n",
      "Processing record 503|mantsala\n",
      "Processing record 504|neiafu\n",
      "Processing record 505|karratha\n",
      "Processing record 506|oranjestad\n",
      "Processing record 507|port hedland\n",
      "Processing record 508|hokitika\n",
      "Processing record 509|ginda\n",
      "Processing record 510|petropavlovsk-kamchatskiy\n",
      "Processing record 511|chepareria\n",
      "Processing record 512|mandalgovi\n",
      "Processing record 513|deputatskiy\n",
      "Processing record 514|lalibela\n",
      "Processing record 515|venezuela\n",
      "Processing record 516|port lincoln\n",
      "Processing record 517|belyy yar\n",
      "Processing record 518|ust-omchug\n",
      "Processing record 519|khasan\n",
      "Processing record 520|ous\n",
      "Processing record 521|floriano\n",
      "Processing record 522|tifton\n",
      "Processing record 523|jumla\n",
      "Processing record 524|aksarka\n",
      "Processing record 525|cortes\n",
      "Processing record 526|praia\n",
      "Processing record 527|serenje\n",
      "Processing record 528|emerald\n",
      "Processing record 529|ocampo\n",
      "Processing record 530|banapur\n",
      "Processing record 531|katherine\n",
      "Processing record 532|meulaboh\n",
      "Processing record 533|teya\n",
      "Processing record 534|surt\n",
      "Processing record 535|la ronge\n",
      "Processing record 536|veraval\n",
      "Processing record 537|kaeo\n",
      "Processing record 538|worland\n",
      "Processing record 539|warrnambool\n",
      "Processing record 540|guerrero negro\n",
      "Processing record 541|tungor\n",
      "Processing record 542|sabha\n",
      "Processing record 543|lorengau\n",
      "City not found. skipping.\n",
      "Processing record 544|tessalit\n",
      "Processing record 545|sharjah\n",
      "Processing record 546|mabaruma\n",
      "City not found. skipping.\n",
      "Processing record 547|tabuk\n",
      "Processing record 548|port pirie\n",
      "Processing record 549|chuy\n",
      "Processing record 550|ballina\n",
      "Processing record 551|el sauzal\n",
      "Processing record 552|presidencia roque saenz pena\n",
      "City not found. skipping.\n",
      "Processing record 553|porbandar\n",
      "Processing record 554|jieshi\n",
      "Processing record 555|bowen\n",
      "Processing record 556|baryshivka\n",
      "Processing record 557|waingapu\n",
      "Processing record 558|sri aman\n",
      "Processing record 559|nur\n",
      "Processing record 560|maltahohe\n",
      "Processing record 561|powell\n",
      "Processing record 562|acari\n",
      "City not found. skipping.\n",
      "Processing record 563|acarau\n",
      "Processing record 564|urengoy\n",
      "Processing record 565|panaba\n",
      "Processing record 566|ruteng\n",
      "Processing record 567|plouzane\n",
      "Processing record 568|syasstroy\n",
      "Processing record 569|millau\n"
     ]
    }
   ],
   "source": [
    "# Perform a weather check on each city using a series of successive API calls.\n",
    "# Include a print log of each city as it's being processed (with the city number and city name).\n",
    "\n",
    "url = \"http://api.openweathermap.org/data/2.5/weather?units=Imperial&\"\n",
    "\n",
    "#Define empty lists to store values\n",
    "cloudiness = []\n",
    "country = []\n",
    "date = []\n",
    "max_temp = []\n",
    "humidity = []\n",
    "lat = []\n",
    "lng = []\n",
    "wind_speed = []\n",
    "city_name = []\n",
    "\n",
    "#Looping through cities to make api calls using city as query\n",
    "i = 1\n",
    "for city in cities:\n",
    "    city=city\n",
    "    query_url = url + \"appid=\" + weather_api_key + \"&q=\" + city\n",
    "    response = requests.get(query_url).json()\n",
    "    \n",
    "#Extracting data. Missing data is handled by try and except  \n",
    "    try:\n",
    "        \n",
    "        cloudiness.append(response[\"clouds\"][\"all\"])\n",
    "        country.append(response[\"sys\"][\"country\"])\n",
    "        date.append(response[\"dt\"])\n",
    "        max_temp.append(response[\"main\"]['temp_max'])\n",
    "        humidity.append(response[\"main\"]['humidity'])\n",
    "        lat.append(response[\"coord\"][\"lat\"])  \n",
    "        lng.append(response[\"coord\"][\"lon\"])\n",
    "        wind_speed.append(response[\"wind\"][\"speed\"])\n",
    "        city_name.append(response[\"name\"])\n",
    "        print(f\"Processing record {i}|{city}\")\n",
    "        i+=1\n",
    "    except (KeyError):\n",
    "        print(\"City not found. skipping.\")"
   ]
  },
  {
   "cell_type": "markdown",
   "metadata": {},
   "source": [
    "### Convert Raw Data to DataFrame\n",
    "* Export the city data into a .csv.\n",
    "* Display the DataFrame"
   ]
  },
  {
   "cell_type": "code",
   "execution_count": 4,
   "metadata": {},
   "outputs": [
    {
     "data": {
      "text/html": [
       "<div>\n",
       "<style scoped>\n",
       "    .dataframe tbody tr th:only-of-type {\n",
       "        vertical-align: middle;\n",
       "    }\n",
       "\n",
       "    .dataframe tbody tr th {\n",
       "        vertical-align: top;\n",
       "    }\n",
       "\n",
       "    .dataframe thead th {\n",
       "        text-align: right;\n",
       "    }\n",
       "</style>\n",
       "<table border=\"1\" class=\"dataframe\">\n",
       "  <thead>\n",
       "    <tr style=\"text-align: right;\">\n",
       "      <th></th>\n",
       "      <th>City Name</th>\n",
       "      <th>Country</th>\n",
       "      <th>Cloudiness</th>\n",
       "      <th>Max Temp</th>\n",
       "      <th>Wind Speed</th>\n",
       "      <th>Humidity</th>\n",
       "      <th>Lat</th>\n",
       "      <th>Lng</th>\n",
       "    </tr>\n",
       "    <tr>\n",
       "      <th>City ID</th>\n",
       "      <th></th>\n",
       "      <th></th>\n",
       "      <th></th>\n",
       "      <th></th>\n",
       "      <th></th>\n",
       "      <th></th>\n",
       "      <th></th>\n",
       "      <th></th>\n",
       "    </tr>\n",
       "  </thead>\n",
       "  <tbody>\n",
       "    <tr>\n",
       "      <th>0</th>\n",
       "      <td>Flinders</td>\n",
       "      <td>AU</td>\n",
       "      <td>94</td>\n",
       "      <td>51.06</td>\n",
       "      <td>1.01</td>\n",
       "      <td>91</td>\n",
       "      <td>-34.5833</td>\n",
       "      <td>150.8552</td>\n",
       "    </tr>\n",
       "    <tr>\n",
       "      <th>1</th>\n",
       "      <td>Tepecik</td>\n",
       "      <td>TR</td>\n",
       "      <td>100</td>\n",
       "      <td>64.69</td>\n",
       "      <td>2.26</td>\n",
       "      <td>68</td>\n",
       "      <td>41.0293</td>\n",
       "      <td>28.5498</td>\n",
       "    </tr>\n",
       "    <tr>\n",
       "      <th>2</th>\n",
       "      <td>Arrondissement de Carpentras</td>\n",
       "      <td>FR</td>\n",
       "      <td>7</td>\n",
       "      <td>82.92</td>\n",
       "      <td>2.46</td>\n",
       "      <td>53</td>\n",
       "      <td>44.0833</td>\n",
       "      <td>5.1667</td>\n",
       "    </tr>\n",
       "    <tr>\n",
       "      <th>3</th>\n",
       "      <td>Mehamn</td>\n",
       "      <td>NO</td>\n",
       "      <td>0</td>\n",
       "      <td>48.38</td>\n",
       "      <td>6.91</td>\n",
       "      <td>61</td>\n",
       "      <td>71.0357</td>\n",
       "      <td>27.8492</td>\n",
       "    </tr>\n",
       "    <tr>\n",
       "      <th>4</th>\n",
       "      <td>Mataura</td>\n",
       "      <td>NZ</td>\n",
       "      <td>100</td>\n",
       "      <td>46.47</td>\n",
       "      <td>0.65</td>\n",
       "      <td>99</td>\n",
       "      <td>-46.1927</td>\n",
       "      <td>168.8643</td>\n",
       "    </tr>\n",
       "  </tbody>\n",
       "</table>\n",
       "</div>"
      ],
      "text/plain": [
       "                            City Name Country  Cloudiness  Max Temp  \\\n",
       "City ID                                                               \n",
       "0                            Flinders      AU          94     51.06   \n",
       "1                             Tepecik      TR         100     64.69   \n",
       "2        Arrondissement de Carpentras      FR           7     82.92   \n",
       "3                              Mehamn      NO           0     48.38   \n",
       "4                             Mataura      NZ         100     46.47   \n",
       "\n",
       "         Wind Speed  Humidity      Lat       Lng  \n",
       "City ID                                           \n",
       "0              1.01        91 -34.5833  150.8552  \n",
       "1              2.26        68  41.0293   28.5498  \n",
       "2              2.46        53  44.0833    5.1667  \n",
       "3              6.91        61  71.0357   27.8492  \n",
       "4              0.65        99 -46.1927  168.8643  "
      ]
     },
     "execution_count": 4,
     "metadata": {},
     "output_type": "execute_result"
    }
   ],
   "source": [
    "\n",
    "city_dataframe = pd.DataFrame({\n",
    "                                \"City Name\": city_name,\n",
    "                                \"Country\": country,\n",
    "                                \"Cloudiness\": cloudiness, \n",
    "                                \"Max Temp\": max_temp, \n",
    "                                \"Wind Speed\": wind_speed,\n",
    "                                \"Humidity\": humidity,\n",
    "                                \"Lat\": lat, \n",
    "                                \"Lng\": lng,\n",
    "                               })\n",
    "\n",
    "city_dataframe = city_dataframe.rename_axis(\"City ID\")\n",
    "city_dataframe.head()"
   ]
  },
  {
   "cell_type": "code",
   "execution_count": 5,
   "metadata": {},
   "outputs": [],
   "source": [
    "\n",
    "# Export the city data into a .csv.\n",
    "city_dataframe.to_csv(\"city_dataframe.csv\")\n"
   ]
  },
  {
   "cell_type": "markdown",
   "metadata": {},
   "source": [
    "## Inspect the data and remove the cities where the humidity > 100%.\n",
    "----\n",
    "Skip this step if there are no cities that have humidity > 100%. "
   ]
  },
  {
   "cell_type": "code",
   "execution_count": 6,
   "metadata": {},
   "outputs": [
    {
     "data": {
      "text/html": [
       "<div>\n",
       "<style scoped>\n",
       "    .dataframe tbody tr th:only-of-type {\n",
       "        vertical-align: middle;\n",
       "    }\n",
       "\n",
       "    .dataframe tbody tr th {\n",
       "        vertical-align: top;\n",
       "    }\n",
       "\n",
       "    .dataframe thead th {\n",
       "        text-align: right;\n",
       "    }\n",
       "</style>\n",
       "<table border=\"1\" class=\"dataframe\">\n",
       "  <thead>\n",
       "    <tr style=\"text-align: right;\">\n",
       "      <th></th>\n",
       "      <th>City ID</th>\n",
       "      <th>City Name</th>\n",
       "      <th>Country</th>\n",
       "      <th>Cloudiness</th>\n",
       "      <th>Max Temp</th>\n",
       "      <th>Wind Speed</th>\n",
       "      <th>Humidity</th>\n",
       "      <th>Lat</th>\n",
       "      <th>Lng</th>\n",
       "    </tr>\n",
       "  </thead>\n",
       "  <tbody>\n",
       "    <tr>\n",
       "      <th>0</th>\n",
       "      <td>0</td>\n",
       "      <td>Flinders</td>\n",
       "      <td>AU</td>\n",
       "      <td>94</td>\n",
       "      <td>51.06</td>\n",
       "      <td>1.01</td>\n",
       "      <td>91</td>\n",
       "      <td>-34.5833</td>\n",
       "      <td>150.8552</td>\n",
       "    </tr>\n",
       "    <tr>\n",
       "      <th>1</th>\n",
       "      <td>1</td>\n",
       "      <td>Tepecik</td>\n",
       "      <td>TR</td>\n",
       "      <td>100</td>\n",
       "      <td>64.69</td>\n",
       "      <td>2.26</td>\n",
       "      <td>68</td>\n",
       "      <td>41.0293</td>\n",
       "      <td>28.5498</td>\n",
       "    </tr>\n",
       "    <tr>\n",
       "      <th>2</th>\n",
       "      <td>2</td>\n",
       "      <td>Arrondissement de Carpentras</td>\n",
       "      <td>FR</td>\n",
       "      <td>7</td>\n",
       "      <td>82.92</td>\n",
       "      <td>2.46</td>\n",
       "      <td>53</td>\n",
       "      <td>44.0833</td>\n",
       "      <td>5.1667</td>\n",
       "    </tr>\n",
       "    <tr>\n",
       "      <th>3</th>\n",
       "      <td>3</td>\n",
       "      <td>Mehamn</td>\n",
       "      <td>NO</td>\n",
       "      <td>0</td>\n",
       "      <td>48.38</td>\n",
       "      <td>6.91</td>\n",
       "      <td>61</td>\n",
       "      <td>71.0357</td>\n",
       "      <td>27.8492</td>\n",
       "    </tr>\n",
       "    <tr>\n",
       "      <th>4</th>\n",
       "      <td>4</td>\n",
       "      <td>Mataura</td>\n",
       "      <td>NZ</td>\n",
       "      <td>100</td>\n",
       "      <td>46.47</td>\n",
       "      <td>0.65</td>\n",
       "      <td>99</td>\n",
       "      <td>-46.1927</td>\n",
       "      <td>168.8643</td>\n",
       "    </tr>\n",
       "    <tr>\n",
       "      <th>...</th>\n",
       "      <td>...</td>\n",
       "      <td>...</td>\n",
       "      <td>...</td>\n",
       "      <td>...</td>\n",
       "      <td>...</td>\n",
       "      <td>...</td>\n",
       "      <td>...</td>\n",
       "      <td>...</td>\n",
       "      <td>...</td>\n",
       "    </tr>\n",
       "    <tr>\n",
       "      <th>564</th>\n",
       "      <td>564</td>\n",
       "      <td>Panabá</td>\n",
       "      <td>MX</td>\n",
       "      <td>100</td>\n",
       "      <td>75.70</td>\n",
       "      <td>8.95</td>\n",
       "      <td>89</td>\n",
       "      <td>21.2833</td>\n",
       "      <td>-88.2667</td>\n",
       "    </tr>\n",
       "    <tr>\n",
       "      <th>565</th>\n",
       "      <td>565</td>\n",
       "      <td>Ruteng</td>\n",
       "      <td>ID</td>\n",
       "      <td>96</td>\n",
       "      <td>60.84</td>\n",
       "      <td>1.30</td>\n",
       "      <td>95</td>\n",
       "      <td>-8.6136</td>\n",
       "      <td>120.4721</td>\n",
       "    </tr>\n",
       "    <tr>\n",
       "      <th>566</th>\n",
       "      <td>566</td>\n",
       "      <td>Plouzané</td>\n",
       "      <td>FR</td>\n",
       "      <td>0</td>\n",
       "      <td>71.69</td>\n",
       "      <td>10.36</td>\n",
       "      <td>77</td>\n",
       "      <td>48.3833</td>\n",
       "      <td>-4.6167</td>\n",
       "    </tr>\n",
       "    <tr>\n",
       "      <th>567</th>\n",
       "      <td>567</td>\n",
       "      <td>Syas'stroy</td>\n",
       "      <td>RU</td>\n",
       "      <td>59</td>\n",
       "      <td>53.51</td>\n",
       "      <td>4.25</td>\n",
       "      <td>69</td>\n",
       "      <td>60.1367</td>\n",
       "      <td>32.5691</td>\n",
       "    </tr>\n",
       "    <tr>\n",
       "      <th>568</th>\n",
       "      <td>568</td>\n",
       "      <td>Arrondissement de Millau</td>\n",
       "      <td>FR</td>\n",
       "      <td>100</td>\n",
       "      <td>77.13</td>\n",
       "      <td>4.14</td>\n",
       "      <td>74</td>\n",
       "      <td>44.0833</td>\n",
       "      <td>2.9167</td>\n",
       "    </tr>\n",
       "  </tbody>\n",
       "</table>\n",
       "<p>569 rows × 9 columns</p>\n",
       "</div>"
      ],
      "text/plain": [
       "     City ID                     City Name Country  Cloudiness  Max Temp  \\\n",
       "0          0                      Flinders      AU          94     51.06   \n",
       "1          1                       Tepecik      TR         100     64.69   \n",
       "2          2  Arrondissement de Carpentras      FR           7     82.92   \n",
       "3          3                        Mehamn      NO           0     48.38   \n",
       "4          4                       Mataura      NZ         100     46.47   \n",
       "..       ...                           ...     ...         ...       ...   \n",
       "564      564                        Panabá      MX         100     75.70   \n",
       "565      565                        Ruteng      ID          96     60.84   \n",
       "566      566                      Plouzané      FR           0     71.69   \n",
       "567      567                    Syas'stroy      RU          59     53.51   \n",
       "568      568      Arrondissement de Millau      FR         100     77.13   \n",
       "\n",
       "     Wind Speed  Humidity      Lat       Lng  \n",
       "0          1.01        91 -34.5833  150.8552  \n",
       "1          2.26        68  41.0293   28.5498  \n",
       "2          2.46        53  44.0833    5.1667  \n",
       "3          6.91        61  71.0357   27.8492  \n",
       "4          0.65        99 -46.1927  168.8643  \n",
       "..          ...       ...      ...       ...  \n",
       "564        8.95        89  21.2833  -88.2667  \n",
       "565        1.30        95  -8.6136  120.4721  \n",
       "566       10.36        77  48.3833   -4.6167  \n",
       "567        4.25        69  60.1367   32.5691  \n",
       "568        4.14        74  44.0833    2.9167  \n",
       "\n",
       "[569 rows x 9 columns]"
      ]
     },
     "execution_count": 6,
     "metadata": {},
     "output_type": "execute_result"
    }
   ],
   "source": [
    "\n",
    "city_dataframe = pd.read_csv(\"city_dataframe.csv\")\n",
    "city_dataframe\n"
   ]
  },
  {
   "cell_type": "code",
   "execution_count": 7,
   "metadata": {},
   "outputs": [
    {
     "data": {
      "text/html": [
       "<div>\n",
       "<style scoped>\n",
       "    .dataframe tbody tr th:only-of-type {\n",
       "        vertical-align: middle;\n",
       "    }\n",
       "\n",
       "    .dataframe tbody tr th {\n",
       "        vertical-align: top;\n",
       "    }\n",
       "\n",
       "    .dataframe thead th {\n",
       "        text-align: right;\n",
       "    }\n",
       "</style>\n",
       "<table border=\"1\" class=\"dataframe\">\n",
       "  <thead>\n",
       "    <tr style=\"text-align: right;\">\n",
       "      <th></th>\n",
       "      <th>City ID</th>\n",
       "      <th>City Name</th>\n",
       "      <th>Country</th>\n",
       "      <th>Cloudiness</th>\n",
       "      <th>Max Temp</th>\n",
       "      <th>Wind Speed</th>\n",
       "      <th>Humidity</th>\n",
       "      <th>Lat</th>\n",
       "      <th>Lng</th>\n",
       "    </tr>\n",
       "  </thead>\n",
       "  <tbody>\n",
       "    <tr>\n",
       "      <th>0</th>\n",
       "      <td>0</td>\n",
       "      <td>Flinders</td>\n",
       "      <td>AU</td>\n",
       "      <td>94</td>\n",
       "      <td>51.06</td>\n",
       "      <td>1.01</td>\n",
       "      <td>91</td>\n",
       "      <td>-34.5833</td>\n",
       "      <td>150.8552</td>\n",
       "    </tr>\n",
       "    <tr>\n",
       "      <th>1</th>\n",
       "      <td>1</td>\n",
       "      <td>Tepecik</td>\n",
       "      <td>TR</td>\n",
       "      <td>100</td>\n",
       "      <td>64.69</td>\n",
       "      <td>2.26</td>\n",
       "      <td>68</td>\n",
       "      <td>41.0293</td>\n",
       "      <td>28.5498</td>\n",
       "    </tr>\n",
       "    <tr>\n",
       "      <th>2</th>\n",
       "      <td>2</td>\n",
       "      <td>Arrondissement de Carpentras</td>\n",
       "      <td>FR</td>\n",
       "      <td>7</td>\n",
       "      <td>82.92</td>\n",
       "      <td>2.46</td>\n",
       "      <td>53</td>\n",
       "      <td>44.0833</td>\n",
       "      <td>5.1667</td>\n",
       "    </tr>\n",
       "    <tr>\n",
       "      <th>3</th>\n",
       "      <td>3</td>\n",
       "      <td>Mehamn</td>\n",
       "      <td>NO</td>\n",
       "      <td>0</td>\n",
       "      <td>48.38</td>\n",
       "      <td>6.91</td>\n",
       "      <td>61</td>\n",
       "      <td>71.0357</td>\n",
       "      <td>27.8492</td>\n",
       "    </tr>\n",
       "    <tr>\n",
       "      <th>4</th>\n",
       "      <td>4</td>\n",
       "      <td>Mataura</td>\n",
       "      <td>NZ</td>\n",
       "      <td>100</td>\n",
       "      <td>46.47</td>\n",
       "      <td>0.65</td>\n",
       "      <td>99</td>\n",
       "      <td>-46.1927</td>\n",
       "      <td>168.8643</td>\n",
       "    </tr>\n",
       "    <tr>\n",
       "      <th>...</th>\n",
       "      <td>...</td>\n",
       "      <td>...</td>\n",
       "      <td>...</td>\n",
       "      <td>...</td>\n",
       "      <td>...</td>\n",
       "      <td>...</td>\n",
       "      <td>...</td>\n",
       "      <td>...</td>\n",
       "      <td>...</td>\n",
       "    </tr>\n",
       "    <tr>\n",
       "      <th>564</th>\n",
       "      <td>564</td>\n",
       "      <td>Panabá</td>\n",
       "      <td>MX</td>\n",
       "      <td>100</td>\n",
       "      <td>75.70</td>\n",
       "      <td>8.95</td>\n",
       "      <td>89</td>\n",
       "      <td>21.2833</td>\n",
       "      <td>-88.2667</td>\n",
       "    </tr>\n",
       "    <tr>\n",
       "      <th>565</th>\n",
       "      <td>565</td>\n",
       "      <td>Ruteng</td>\n",
       "      <td>ID</td>\n",
       "      <td>96</td>\n",
       "      <td>60.84</td>\n",
       "      <td>1.30</td>\n",
       "      <td>95</td>\n",
       "      <td>-8.6136</td>\n",
       "      <td>120.4721</td>\n",
       "    </tr>\n",
       "    <tr>\n",
       "      <th>566</th>\n",
       "      <td>566</td>\n",
       "      <td>Plouzané</td>\n",
       "      <td>FR</td>\n",
       "      <td>0</td>\n",
       "      <td>71.69</td>\n",
       "      <td>10.36</td>\n",
       "      <td>77</td>\n",
       "      <td>48.3833</td>\n",
       "      <td>-4.6167</td>\n",
       "    </tr>\n",
       "    <tr>\n",
       "      <th>567</th>\n",
       "      <td>567</td>\n",
       "      <td>Syas'stroy</td>\n",
       "      <td>RU</td>\n",
       "      <td>59</td>\n",
       "      <td>53.51</td>\n",
       "      <td>4.25</td>\n",
       "      <td>69</td>\n",
       "      <td>60.1367</td>\n",
       "      <td>32.5691</td>\n",
       "    </tr>\n",
       "    <tr>\n",
       "      <th>568</th>\n",
       "      <td>568</td>\n",
       "      <td>Arrondissement de Millau</td>\n",
       "      <td>FR</td>\n",
       "      <td>100</td>\n",
       "      <td>77.13</td>\n",
       "      <td>4.14</td>\n",
       "      <td>74</td>\n",
       "      <td>44.0833</td>\n",
       "      <td>2.9167</td>\n",
       "    </tr>\n",
       "  </tbody>\n",
       "</table>\n",
       "<p>569 rows × 9 columns</p>\n",
       "</div>"
      ],
      "text/plain": [
       "     City ID                     City Name Country  Cloudiness  Max Temp  \\\n",
       "0          0                      Flinders      AU          94     51.06   \n",
       "1          1                       Tepecik      TR         100     64.69   \n",
       "2          2  Arrondissement de Carpentras      FR           7     82.92   \n",
       "3          3                        Mehamn      NO           0     48.38   \n",
       "4          4                       Mataura      NZ         100     46.47   \n",
       "..       ...                           ...     ...         ...       ...   \n",
       "564      564                        Panabá      MX         100     75.70   \n",
       "565      565                        Ruteng      ID          96     60.84   \n",
       "566      566                      Plouzané      FR           0     71.69   \n",
       "567      567                    Syas'stroy      RU          59     53.51   \n",
       "568      568      Arrondissement de Millau      FR         100     77.13   \n",
       "\n",
       "     Wind Speed  Humidity      Lat       Lng  \n",
       "0          1.01        91 -34.5833  150.8552  \n",
       "1          2.26        68  41.0293   28.5498  \n",
       "2          2.46        53  44.0833    5.1667  \n",
       "3          6.91        61  71.0357   27.8492  \n",
       "4          0.65        99 -46.1927  168.8643  \n",
       "..          ...       ...      ...       ...  \n",
       "564        8.95        89  21.2833  -88.2667  \n",
       "565        1.30        95  -8.6136  120.4721  \n",
       "566       10.36        77  48.3833   -4.6167  \n",
       "567        4.25        69  60.1367   32.5691  \n",
       "568        4.14        74  44.0833    2.9167  \n",
       "\n",
       "[569 rows x 9 columns]"
      ]
     },
     "execution_count": 7,
     "metadata": {},
     "output_type": "execute_result"
    }
   ],
   "source": [
    "\n",
    "city_dataframe[city_dataframe[\"Humidity\"] <= 100]"
   ]
  },
  {
   "cell_type": "code",
   "execution_count": 8,
   "metadata": {},
   "outputs": [
    {
     "data": {
      "text/html": [
       "<div>\n",
       "<style scoped>\n",
       "    .dataframe tbody tr th:only-of-type {\n",
       "        vertical-align: middle;\n",
       "    }\n",
       "\n",
       "    .dataframe tbody tr th {\n",
       "        vertical-align: top;\n",
       "    }\n",
       "\n",
       "    .dataframe thead th {\n",
       "        text-align: right;\n",
       "    }\n",
       "</style>\n",
       "<table border=\"1\" class=\"dataframe\">\n",
       "  <thead>\n",
       "    <tr style=\"text-align: right;\">\n",
       "      <th></th>\n",
       "      <th>City ID</th>\n",
       "      <th>City Name</th>\n",
       "      <th>Country</th>\n",
       "      <th>Cloudiness</th>\n",
       "      <th>Max Temp</th>\n",
       "      <th>Wind Speed</th>\n",
       "      <th>Humidity</th>\n",
       "      <th>Lat</th>\n",
       "      <th>Lng</th>\n",
       "    </tr>\n",
       "  </thead>\n",
       "  <tbody>\n",
       "  </tbody>\n",
       "</table>\n",
       "</div>"
      ],
      "text/plain": [
       "Empty DataFrame\n",
       "Columns: [City ID, City Name, Country, Cloudiness, Max Temp, Wind Speed, Humidity, Lat, Lng]\n",
       "Index: []"
      ]
     },
     "execution_count": 8,
     "metadata": {},
     "output_type": "execute_result"
    }
   ],
   "source": [
    "# no cities with > 100%\n",
    "city_dataframe_greater_than_100 = city_dataframe.query(\"Humidity >  100\")\n",
    "city_dataframe_greater_than_100\n",
    "\n",
    "# there are no cities that appear in the data frame, this is because there are no cities in the data frame with > 100% humidity"
   ]
  },
  {
   "cell_type": "markdown",
   "metadata": {},
   "source": [
    "## Plotting the Data\n",
    "* Use proper labeling of the plots using plot titles (including date of analysis) and axes labels.\n",
    "* Save the plotted figures as .pngs."
   ]
  },
  {
   "cell_type": "markdown",
   "metadata": {},
   "source": [
    "## Latitude vs. Temperature Plot"
   ]
  },
  {
   "cell_type": "code",
   "execution_count": 9,
   "metadata": {
    "scrolled": true
   },
   "outputs": [
    {
     "data": {
      "image/png": "[encoded data removed]",
      "text/plain": [
       "<Figure size 432x288 with 1 Axes>"
      ]
     },
     "metadata": {
      "needs_background": "light"
     },
     "output_type": "display_data"
    },
    {
     "data": {
      "text/plain": [
       "<Figure size 432x288 with 0 Axes>"
      ]
     },
     "metadata": {},
     "output_type": "display_data"
    }
   ],
   "source": [
    "plt.scatter(city_dataframe[\"Lat\"], city_dataframe[\"Max Temp\"], marker = \"o\", color = \"black\", edgecolor = \"black\")\n",
    "plt.grid()\n",
    "plt.xlabel(\"Latitude\")\n",
    "plt.ylabel(\"Temperature\")\n",
    "plt.title(\"Latitude vs. Temperature Plot\")\n",
    "plt.show()\n",
    "plt.savefig(\"Lat_Temp.png\")\n"
   ]
  },
  {
   "cell_type": "markdown",
   "metadata": {},
   "source": [
    "## Latitude vs. Humidity Plot"
   ]
  },
  {
   "cell_type": "code",
   "execution_count": 10,
   "metadata": {},
   "outputs": [
    {
     "data": {
      "image/png": "[encoded data removed]",
      "text/plain": [
       "<Figure size 432x288 with 1 Axes>"
      ]
     },
     "metadata": {
      "needs_background": "light"
     },
     "output_type": "display_data"
    },
    {
     "data": {
      "text/plain": [
       "<Figure size 432x288 with 0 Axes>"
      ]
     },
     "metadata": {},
     "output_type": "display_data"
    }
   ],
   "source": [
    "plt.scatter(city_dataframe[\"Lat\"], city_dataframe[\"Humidity\"], marker = \"o\", color = \"black\", edgecolor = \"black\")\n",
    "plt.grid()\n",
    "plt.xlabel(\"Latitude\")\n",
    "plt.ylabel(\"Humidity\")\n",
    "plt.title(\"Latitude vs. Humidity Plot\")\n",
    "plt.show()\n",
    "plt.savefig(\"Lat_Humidity.png\")"
   ]
  },
  {
   "cell_type": "markdown",
   "metadata": {},
   "source": [
    "## Latitude vs. Cloudiness Plot"
   ]
  },
  {
   "cell_type": "code",
   "execution_count": 11,
   "metadata": {},
   "outputs": [
    {
     "data": {
      "image/png": "[encoded data removed]",
      "text/plain": [
       "<Figure size 432x288 with 1 Axes>"
      ]
     },
     "metadata": {
      "needs_background": "light"
     },
     "output_type": "display_data"
    },
    {
     "data": {
      "text/plain": [
       "<Figure size 432x288 with 0 Axes>"
      ]
     },
     "metadata": {},
     "output_type": "display_data"
    }
   ],
   "source": [
    "plt.scatter(city_dataframe[\"Lat\"], city_dataframe[\"Cloudiness\"], marker = \"o\", color = \"black\", edgecolor = \"black\")\n",
    "plt.grid()\n",
    "plt.xlabel(\"Latitude\")\n",
    "plt.ylabel(\"Cloudiness\")\n",
    "plt.title(\"Latitude vs. Cloudiness Plot\")\n",
    "plt.show()\n",
    "plt.savefig(\"Lat_CLoudiness.png\")"
   ]
  },
  {
   "cell_type": "markdown",
   "metadata": {},
   "source": [
    "## Latitude vs. Wind Speed Plot"
   ]
  },
  {
   "cell_type": "code",
   "execution_count": 12,
   "metadata": {},
   "outputs": [
    {
     "data": {
      "image/png": "[encoded data removed]",
      "text/plain": [
       "<Figure size 432x288 with 1 Axes>"
      ]
     },
     "metadata": {
      "needs_background": "light"
     },
     "output_type": "display_data"
    },
    {
     "data": {
      "text/plain": [
       "<Figure size 432x288 with 0 Axes>"
      ]
     },
     "metadata": {},
     "output_type": "display_data"
    }
   ],
   "source": [
    "plt.scatter(city_dataframe[\"Lat\"], city_dataframe[\"Wind Speed\"], marker = \"o\", color = \"black\", edgecolor = \"black\")\n",
    "plt.grid()\n",
    "plt.xlabel(\"Latitude\")\n",
    "plt.ylabel(\"Wind Speeds\")\n",
    "plt.title(\"Latitude vs. Wind Speed\")\n",
    "plt.show()\n",
    "plt.savefig(\"Lat_Wind.png\")"
   ]
  },
  {
   "cell_type": "markdown",
   "metadata": {},
   "source": [
    "## Linear Regression"
   ]
  },
  {
   "cell_type": "code",
   "execution_count": 13,
   "metadata": {},
   "outputs": [],
   "source": [
    "def linear_reg_plot(x_values,y_values, textcoords):\n",
    "    (slope, intercept, rvalue, pvalue, stderr) = linregress(x_values, y_values)\n",
    "    regress_values = x_values * slope + intercept\n",
    "    line_eq = \"y = \" + str(round(slope,2)) + \"x + \" + str(round(intercept,2))\n",
    "    plt.scatter(x_values,y_values)\n",
    "    plt.plot(x_values,regress_values,\"r-\")\n",
    "    plt.annotate(line_eq,textcoords,fontsize=20,color=\"red\",)\n",
    "    plt.xlabel(\"Latitude\")\n",
    "    print(f\"The r-squared is: {rvalue}\")\n",
    "    plt.show()"
   ]
  },
  {
   "cell_type": "markdown",
   "metadata": {},
   "source": [
    "####  Northern Hemisphere - Max Temp vs. Latitude Linear Regression"
   ]
  },
  {
   "cell_type": "code",
   "execution_count": 14,
   "metadata": {},
   "outputs": [
    {
     "name": "stdout",
     "output_type": "stream",
     "text": [
      "The r-squared is: -0.7263214817145343\n"
     ]
    },
    {
     "data": {
      "image/png": "[encoded data removed]",
      "text/plain": [
       "<Figure size 432x288 with 1 Axes>"
      ]
     },
     "metadata": {
      "needs_background": "light"
     },
     "output_type": "display_data"
    },
    {
     "data": {
      "text/plain": [
       "<Figure size 432x288 with 0 Axes>"
      ]
     },
     "metadata": {},
     "output_type": "display_data"
    }
   ],
   "source": [
    "northern_hemisphere = city_dataframe.loc[city_dataframe[\"Lat\"] > 0]\n",
    "x_values = northern_hemisphere[\"Lat\"]\n",
    "y_values = northern_hemisphere[\"Max Temp\"]\n",
    "plt.ylabel(\"Max Temp (F)\")\n",
    "plt.title(\"Northern Hemisphere - Max Temp vs. Latitude Linear Regression\")\n",
    "linear_reg_plot(x_values,y_values, (0,0))\n",
    "plt.savefig(\"N_Hemisphere_Max_Temp_Lat_Lin_Regression.png\")\n",
    "\n"
   ]
  },
  {
   "cell_type": "markdown",
   "metadata": {},
   "source": [
    "####  Southern Hemisphere - Max Temp vs. Latitude Linear Regression"
   ]
  },
  {
   "cell_type": "code",
   "execution_count": 15,
   "metadata": {},
   "outputs": [
    {
     "name": "stdout",
     "output_type": "stream",
     "text": [
      "The r-squared is: 0.7561062765563306\n"
     ]
    },
    {
     "data": {
      "image/png": "[encoded data removed]",
      "text/plain": [
       "<Figure size 432x288 with 1 Axes>"
      ]
     },
     "metadata": {
      "needs_background": "light"
     },
     "output_type": "display_data"
    },
    {
     "data": {
      "text/plain": [
       "<Figure size 432x288 with 0 Axes>"
      ]
     },
     "metadata": {},
     "output_type": "display_data"
    }
   ],
   "source": [
    "Southern_hemisphere = city_dataframe.loc[city_dataframe[\"Lat\"]<0]\n",
    "x_values = Southern_hemisphere[\"Lat\"]\n",
    "y_values = Southern_hemisphere[\"Max Temp\"]\n",
    "plt.ylabel(\"Max Temp (F)\")\n",
    "plt.title(\"Southern Hemisphere - Max Temp vs. Latitude Linear Regression\")\n",
    "linear_reg_plot(x_values,y_values, (-20, 55))\n",
    "plt.savefig(\"S_Hemisphere_Max_Temp_Lat_Lin_Regression.png\")"
   ]
  },
  {
   "cell_type": "markdown",
   "metadata": {},
   "source": [
    "####  Northern Hemisphere - Humidity (%) vs. Latitude Linear Regression"
   ]
  },
  {
   "cell_type": "code",
   "execution_count": 17,
   "metadata": {},
   "outputs": [
    {
     "name": "stdout",
     "output_type": "stream",
     "text": [
      "The r-squared is: 0.11323966159677877\n"
     ]
    },
    {
     "data": {
      "image/png": "[encoded data removed]",
      "text/plain": [
       "<Figure size 432x288 with 1 Axes>"
      ]
     },
     "metadata": {
      "needs_background": "light"
     },
     "output_type": "display_data"
    },
    {
     "data": {
      "text/plain": [
       "<Figure size 432x288 with 0 Axes>"
      ]
     },
     "metadata": {},
     "output_type": "display_data"
    }
   ],
   "source": [
    "\n",
    "x_values = northern_hemisphere[\"Lat\"]\n",
    "y_values = northern_hemisphere[\"Humidity\"]\n",
    "plt.ylabel(\"Humidity (%)\")\n",
    "plt.title(\"Northern Hemisphere - Humidity (%) vs. Latitude Linear Regression\")\n",
    "linear_reg_plot(x_values,y_values, (20,20))\n",
    "plt.savefig(\"N_Hesiphere_Humidity_Lat_Lin_Regression.png\")"
   ]
  },
  {
   "cell_type": "markdown",
   "metadata": {},
   "source": [
    "####  Southern Hemisphere - Humidity (%) vs. Latitude Linear Regression"
   ]
  },
  {
   "cell_type": "code",
   "execution_count": 25,
   "metadata": {},
   "outputs": [
    {
     "name": "stdout",
     "output_type": "stream",
     "text": [
      "The r-squared is: -0.054361182952385734\n"
     ]
    },
    {
     "data": {
      "image/png": "[encoded data removed]",
      "text/plain": [
       "<Figure size 432x288 with 1 Axes>"
      ]
     },
     "metadata": {
      "needs_background": "light"
     },
     "output_type": "display_data"
    },
    {
     "data": {
      "text/plain": [
       "<Figure size 432x288 with 0 Axes>"
      ]
     },
     "metadata": {},
     "output_type": "display_data"
    }
   ],
   "source": [
    "\n",
    "x_values = Southern_hemisphere[\"Lat\"]\n",
    "y_values = Southern_hemisphere[\"Humidity\"]\n",
    "plt.ylim(0, y_values.max()+100)\n",
    "plt.ylabel(\"Humidity (%)\")\n",
    "plt.title(\"Southern Hemisphere - Humidity (%) vs. Latitude Linear Regression\")\n",
    "linear_reg_plot(x_values,y_values, (-50,22))\n",
    "plt.savefig(\"S_Hesiphere_Humidity_Lat_Lin_Regression.png\")"
   ]
  },
  {
   "cell_type": "markdown",
   "metadata": {},
   "source": [
    "####  Northern Hemisphere - Cloudiness (%) vs. Latitude Linear Regression"
   ]
  },
  {
   "cell_type": "code",
   "execution_count": 20,
   "metadata": {},
   "outputs": [
    {
     "name": "stdout",
     "output_type": "stream",
     "text": [
      "The r-squared is: 0.032121345026308104\n"
     ]
    },
    {
     "data": {
      "image/png": "[encoded data removed]",
      "text/plain": [
       "<Figure size 432x288 with 1 Axes>"
      ]
     },
     "metadata": {
      "needs_background": "light"
     },
     "output_type": "display_data"
    },
    {
     "data": {
      "text/plain": [
       "<Figure size 432x288 with 0 Axes>"
      ]
     },
     "metadata": {},
     "output_type": "display_data"
    }
   ],
   "source": [
    "x_values = northern_hemisphere[\"Lat\"]\n",
    "y_values = northern_hemisphere[\"Cloudiness\"]\n",
    "plt.ylabel(\"Cloudiness\")\n",
    "plt.title(\"Northern Hemisphere - Cloudiness (%) vs. Latitude Linear Regression\")\n",
    "linear_reg_plot(x_values,y_values, (0,55))\n",
    "plt.savefig(\"N_Hesiphere_Cloudiness_Lat_Lin_Regression.png\")"
   ]
  },
  {
   "cell_type": "markdown",
   "metadata": {},
   "source": [
    "####  Southern Hemisphere - Cloudiness (%) vs. Latitude Linear Regression"
   ]
  },
  {
   "cell_type": "code",
   "execution_count": 22,
   "metadata": {},
   "outputs": [
    {
     "name": "stdout",
     "output_type": "stream",
     "text": [
      "The r-squared is: 0.032121345026308104\n"
     ]
    },
    {
     "data": {
      "image/png": "[encoded data removed]",
      "text/plain": [
       "<Figure size 432x288 with 1 Axes>"
      ]
     },
     "metadata": {
      "needs_background": "light"
     },
     "output_type": "display_data"
    },
    {
     "data": {
      "text/plain": [
       "<Figure size 432x288 with 0 Axes>"
      ]
     },
     "metadata": {},
     "output_type": "display_data"
    }
   ],
   "source": [
    "\n",
    "x_values = northern_hemisphere[\"Lat\"]\n",
    "y_values = northern_hemisphere[\"Cloudiness\"]\n",
    "plt.ylabel(\"Cloudiness\")\n",
    "plt.title(\"Northern Hemisphere - Cloudiness (%) vs. Latitude Linear Regression\")\n",
    "linear_reg_plot(x_values,y_values, (0,55))\n",
    "plt.savefig(\"N_Hesiphere_Cloudiness_Lat_Lin_Regression.png\")"
   ]
  },
  {
   "cell_type": "markdown",
   "metadata": {},
   "source": [
    "####  Northern Hemisphere - Wind Speed (mph) vs. Latitude Linear Regression"
   ]
  },
  {
   "cell_type": "code",
   "execution_count": 23,
   "metadata": {},
   "outputs": [
    {
     "name": "stdout",
     "output_type": "stream",
     "text": [
      "The r-squared is: -0.05947303585683973\n"
     ]
    },
    {
     "data": {
      "image/png": "[encoded data removed]",
      "text/plain": [
       "<Figure size 432x288 with 1 Axes>"
      ]
     },
     "metadata": {
      "needs_background": "light"
     },
     "output_type": "display_data"
    },
    {
     "data": {
      "text/plain": [
       "<Figure size 432x288 with 0 Axes>"
      ]
     },
     "metadata": {},
     "output_type": "display_data"
    }
   ],
   "source": [
    "\n",
    "x_values = Southern_hemisphere[\"Lat\"]\n",
    "y_values = Southern_hemisphere[\"Cloudiness\"]\n",
    "plt.ylabel(\"Cloudiness\")\n",
    "plt.title(\"Southern Hemisphere - Cloudiness (%) vs. Latitude Linear Regression\")\n",
    "linear_reg_plot(x_values,y_values, (-50,60))\n",
    "plt.savefig(\"S_Hesiphere_Cloudiness_Lat_Lin_Regression.png\")"
   ]
  },
  {
   "cell_type": "markdown",
   "metadata": {},
   "source": [
    "####  Southern Hemisphere - Wind Speed (mph) vs. Latitude Linear Regression"
   ]
  },
  {
   "cell_type": "code",
   "execution_count": 24,
   "metadata": {},
   "outputs": [
    {
     "name": "stdout",
     "output_type": "stream",
     "text": [
      "The r-squared is: -0.0772388114965782\n"
     ]
    },
    {
     "data": {
      "image/png": "[encoded data removed]",
      "text/plain": [
       "<Figure size 432x288 with 1 Axes>"
      ]
     },
     "metadata": {
      "needs_background": "light"
     },
     "output_type": "display_data"
    },
    {
     "data": {
      "text/plain": [
       "<Figure size 432x288 with 0 Axes>"
      ]
     },
     "metadata": {},
     "output_type": "display_data"
    }
   ],
   "source": [
    "\n",
    "x_values = Southern_hemisphere[\"Lat\"]\n",
    "y_values = Southern_hemisphere[\"Wind Speed\"]\n",
    "plt.ylabel(\"Wind Speed\")\n",
    "plt.title(\"Southern Hemisphere - Wind Speed (mph) vs. Latitude Linear Regression\")\n",
    "linear_reg_plot(x_values,y_values, (-50,15))\n",
    "plt.savefig(\"S_Hesiphere_Wind_Lat_Lin_Regression.png\")"
   ]
  },
  {
   "cell_type": "code",
   "execution_count": null,
   "metadata": {},
   "outputs": [],
   "source": []
  }
 ],
 "metadata": {
  "anaconda-cloud": {},
  "kernel_info": {
   "name": "python3"
  },
  "kernelspec": {
   "display_name": "Python 3",
   "language": "python",
   "name": "python3"
  },
  "language_info": {
   "codemirror_mode": {
    "name": "ipython",
    "version": 3
   },
   "file_extension": ".py",
   "mimetype": "text/x-python",
   "name": "python",
   "nbconvert_exporter": "python",
   "pygments_lexer": "ipython3",
   "version": "3.6.10"
  },
  "latex_envs": {
   "LaTeX_envs_menu_present": true,
   "autoclose": false,
   "autocomplete": true,
   "bibliofile": "biblio.bib",
   "cite_by": "apalike",
   "current_citInitial": 1,
   "eqLabelWithNumbers": true,
   "eqNumInitial": 1,
   "hotkeys": {
    "equation": "Ctrl-E",
    "itemize": "Ctrl-I"
   },
   "labels_anchors": false,
   "latex_user_defs": false,
   "report_style_numbering": false,
   "user_envs_cfg": false
  },
  "nteract": {
   "version": "0.12.3"
  }
 },
 "nbformat": 4,
 "nbformat_minor": 2
}
